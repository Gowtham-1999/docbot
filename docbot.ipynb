{
 "cells": [
  {
   "cell_type": "code",
   "execution_count": null,
   "metadata": {},
   "outputs": [],
   "source": [
    "pip install nltk\n"
   ]
  },
  {
   "cell_type": "code",
   "execution_count": null,
   "metadata": {},
   "outputs": [],
   "source": [
    "pip install newspaper3k"
   ]
  },
  {
   "cell_type": "code",
   "execution_count": null,
   "metadata": {},
   "outputs": [],
   "source": [
    "#import \n",
    "from newspaper import Article \n",
    "import random\n",
    "import string\n",
    "import nltk\n",
    "from sklearn.feature_extraction.text import CountVectorizer\n",
    "from sklearn.metrics.pairwise import cosine_similarity\n",
    "import numpy as np\n",
    "import warnings\n",
    "warnings.filterwarnings('ignore')"
   ]
  },
  {
   "cell_type": "code",
   "execution_count": null,
   "metadata": {},
   "outputs": [],
   "source": [
    "#download\n",
    "nltk.download('punkt',quiet=True)"
   ]
  },
  {
   "cell_type": "code",
   "execution_count": null,
   "metadata": {},
   "outputs": [],
   "source": [
    "#get article \n",
    "article = Article('https://www.mayoclinic.org/diseases-conditions/chronic-kidney-disease/symptoms-causes/syc-20354521')\n",
    "article.download()\n",
    "article.parse()\n",
    "article.nlp()\n",
    "corpus=article.text\n"
   ]
  },
  {
   "cell_type": "code",
   "execution_count": null,
   "metadata": {},
   "outputs": [],
   "source": [
    "#tokenization \n",
    "text=corpus\n",
    "sentence_list= nltk.sent_tokenize(text)"
   ]
  },
  {
   "cell_type": "code",
   "execution_count": null,
   "metadata": {},
   "outputs": [],
   "source": [
    "print(sentence_list)"
   ]
  },
  {
   "cell_type": "code",
   "execution_count": null,
   "metadata": {},
   "outputs": [],
   "source": [
    "def index_sort(list_var):\n",
    "  length=len(list_var)\n",
    "  list_index=list(range(0,length))\n",
    "  x=list_var\n",
    "  for i in range(length):\n",
    "    for j in range (length):\n",
    "      if x[list_index[i]]>x[list_index[j]]:\n",
    "        temp=list_index[i]\n",
    "        list_index[i]=list_index[j]\n",
    "        list_index[j]=temp\n",
    "\n",
    "  return list_index\n"
   ]
  },
  {
   "cell_type": "code",
   "execution_count": null,
   "metadata": {},
   "outputs": [],
   "source": [
    "#random greeting \n",
    "def bot_response(user_input):\n",
    "  user_input= user_input.lower()\n",
    "  sentence_list.append(user_input)\n",
    "  bot_response=''\n",
    "  cm=CountVectorizer().fit_transform(sentence_list)\n",
    "  similarity_scores= cosine_similarity(cm[-1],cm)\n",
    "  similarity_scores_list = similarity_scores.flatten()\n",
    "  index=index_sort(similarity_scores_list)\n",
    "  index=index[1:]\n",
    "  response_flag=0\n",
    "\n",
    "  j=0\n",
    "  for i in range(len(index)):\n",
    "    if similarity_scores_list[index[i]]>0.0:\n",
    "      bot_response=bot_response+' '+sentence_list[index[i]]\n",
    "      response_flag=1\n",
    "      j+=1\n",
    "      if j>2:\n",
    "        break\n",
    "  if response_flag==0:\n",
    "    bot_response= bot_response+' '+'i did not understand'\n",
    "  sentence_list.remove(user_input)\n",
    "\n",
    "  return bot_response"
   ]
  },
  {
   "cell_type": "code",
   "execution_count": null,
   "metadata": {},
   "outputs": [],
   "source": [
    "exit_list=['exit','bye']\n",
    "print('hello!!!!')\n",
    "print('I am Docbot')\n",
    "print('How can i help you?')\n",
    "print('1.book apointment \\n 2. get information about a disease\\n enter the number')\n",
    "x=input()\n",
    "if x=='1':\n",
    "  while(True):\n",
    "    user_input=input()\n",
    "    if user_input.lower() in exit_list:\n",
    "      break\n",
    "    \n",
    "elif x=='2':\n",
    "    print('enter the name of disease')\n",
    "    name=input()\n",
    "    if name.lower()=='chronic kidney disease':\n",
    "      url='https://www.mayoclinic.org/diseases-conditions/chronic-kidney-disease/symptoms-causes/syc-20354521'\n",
    "    elif name.lower()=='brain tumor':\n",
    "      url='https://www.mayoclinic.org/diseases-conditions/brain-tumor/symptoms-causes/syc-20350084#:~:text=A%20brain%20tumor%20is%20a,tumors%20are%20cancerous%20(malignant).'\n",
    "    #get article \n",
    "    article = Article(url)\n",
    "    article.download()\n",
    "    article.parse()\n",
    "    article.nlp()\n",
    "    corpus=article.text\n",
    "    #tokenization \n",
    "    text=corpus\n",
    "    sentence_list= nltk.sent_tokenize(text)\n",
    "    while(True):\n",
    "      user_input=input()\n",
    "      if user_input.lower() in exit_list:\n",
    "        break\n",
    "      else:\n",
    "        print('doc bot:'+ bot_response(user_input))"
   ]
  },
  {
   "cell_type": "code",
   "execution_count": 1,
   "metadata": {},
   "outputs": [
    {
     "name": "stdout",
     "output_type": "stream",
     "text": [
      " * Serving Flask app \"__main__\" (lazy loading)\n",
      " * Environment: production\n",
      "   WARNING: This is a development server. Do not use it in a production deployment.\n",
      "   Use a production WSGI server instead.\n",
      " * Debug mode: off\n"
     ]
    },
    {
     "name": "stderr",
     "output_type": "stream",
     "text": [
      " * Running on http://127.0.0.1:5000/ (Press CTRL+C to quit)\n",
      "[2020-10-06 19:10:59,031] ERROR in app: Exception on / [GET]\n",
      "Traceback (most recent call last):\n",
      "  File \"C:\\Users\\kiran\\Anaconda3\\lib\\site-packages\\flask\\app.py\", line 2446, in wsgi_app\n",
      "    response = self.full_dispatch_request()\n",
      "  File \"C:\\Users\\kiran\\Anaconda3\\lib\\site-packages\\flask\\app.py\", line 1951, in full_dispatch_request\n",
      "    rv = self.handle_user_exception(e)\n",
      "  File \"C:\\Users\\kiran\\Anaconda3\\lib\\site-packages\\flask\\app.py\", line 1820, in handle_user_exception\n",
      "    reraise(exc_type, exc_value, tb)\n",
      "  File \"C:\\Users\\kiran\\Anaconda3\\lib\\site-packages\\flask\\_compat.py\", line 39, in reraise\n",
      "    raise value\n",
      "  File \"C:\\Users\\kiran\\Anaconda3\\lib\\site-packages\\flask\\app.py\", line 1949, in full_dispatch_request\n",
      "    rv = self.dispatch_request()\n",
      "  File \"C:\\Users\\kiran\\Anaconda3\\lib\\site-packages\\flask\\app.py\", line 1935, in dispatch_request\n",
      "    return self.view_functions[rule.endpoint](**req.view_args)\n",
      "  File \"<ipython-input-1-a85121dda203>\", line 5, in home\n",
      "    return render_template(\"index.html\")\n",
      "  File \"C:\\Users\\kiran\\Anaconda3\\lib\\site-packages\\flask\\templating.py\", line 138, in render_template\n",
      "    ctx.app.jinja_env.get_or_select_template(template_name_or_list),\n",
      "  File \"C:\\Users\\kiran\\Anaconda3\\lib\\site-packages\\jinja2\\environment.py\", line 869, in get_or_select_template\n",
      "    return self.get_template(template_name_or_list, parent, globals)\n",
      "  File \"C:\\Users\\kiran\\Anaconda3\\lib\\site-packages\\jinja2\\environment.py\", line 830, in get_template\n",
      "    return self._load_template(name, self.make_globals(globals))\n",
      "  File \"C:\\Users\\kiran\\Anaconda3\\lib\\site-packages\\jinja2\\environment.py\", line 804, in _load_template\n",
      "    template = self.loader.load(self, name, globals)\n",
      "  File \"C:\\Users\\kiran\\Anaconda3\\lib\\site-packages\\jinja2\\loaders.py\", line 113, in load\n",
      "    source, filename, uptodate = self.get_source(environment, name)\n",
      "  File \"C:\\Users\\kiran\\Anaconda3\\lib\\site-packages\\flask\\templating.py\", line 60, in get_source\n",
      "    return self._get_source_fast(environment, template)\n",
      "  File \"C:\\Users\\kiran\\Anaconda3\\lib\\site-packages\\flask\\templating.py\", line 89, in _get_source_fast\n",
      "    raise TemplateNotFound(template)\n",
      "jinja2.exceptions.TemplateNotFound: index.html\n",
      "127.0.0.1 - - [06/Oct/2020 19:10:59] \"GET / HTTP/1.1\" 500 -\n"
     ]
    }
   ],
   "source": [
    "from flask import Flask,render_template,request\n",
    "app=Flask(__name__)\n",
    "@app.route(\"/\")\n",
    "def home():\n",
    "  return render_template(\"index.html\")\n",
    "\n",
    "# @app.route(\"/get\")\n",
    "# def main():\n",
    "#   exit_list=['exit','bye']\n",
    "#   return str('hello!!!!')\n",
    "#   print('I am Docbot')\n",
    "#   print('How can i help you?')\n",
    "#   print('1.book apointment \\n 2. get information about a disease\\n enter the number')\n",
    "#   x=request.args.get('msg')\n",
    "#   if x=='1':\n",
    "#     while(True):\n",
    "#       user_input=request.args.get('msg')\n",
    "#       if user_input.lower() in exit_list:\n",
    "#         break\n",
    "      \n",
    "#   elif x=='2':\n",
    "#       print('enter the name of disease')\n",
    "#       name=request.args.get('msg')\n",
    "#       if name.lower()=='chronic kidney disease':\n",
    "#         url='https://www.mayoclinic.org/diseases-conditions/chronic-kidney-disease/symptoms-causes/syc-20354521'\n",
    "#       elif name.lower()=='brain tumor':\n",
    "#         url='https://www.mayoclinic.org/diseases-conditions/brain-tumor/symptoms-causes/syc-20350084#:~:text=A%20brain%20tumor%20is%20a,tumors%20are%20cancerous%20(malignant).'\n",
    "#       #get article \n",
    "#       article = Article(url)\n",
    "#       article.download()\n",
    "#       article.parse()\n",
    "#       article.nlp()\n",
    "#       corpus=article.text\n",
    "#       #tokenization \n",
    "#       text=corpus\n",
    "#       sentence_list= nltk.sent_tokenize(text)\n",
    "#       while(True):\n",
    "#         user_input=request.args.get('msg')\n",
    "#         if user_input.lower() in exit_list:\n",
    "#           break\n",
    "#         else:\n",
    "#           return str('doc bot:'+ bot_response(user_input))\n",
    "if __name__==\"__main__\":\n",
    "    app.run()"
   ]
  },
  {
   "cell_type": "code",
   "execution_count": null,
   "metadata": {},
   "outputs": [],
   "source": []
  }
 ],
 "metadata": {
  "kernelspec": {
   "display_name": "Python 3",
   "language": "python",
   "name": "python3"
  },
  "language_info": {
   "codemirror_mode": {
    "name": "ipython",
    "version": 3
   },
   "file_extension": ".py",
   "mimetype": "text/x-python",
   "name": "python",
   "nbconvert_exporter": "python",
   "pygments_lexer": "ipython3",
   "version": "3.7.4"
  }
 },
 "nbformat": 4,
 "nbformat_minor": 2
}
